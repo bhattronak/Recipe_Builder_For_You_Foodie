{
 "cells": [
  {
   "cell_type": "markdown",
   "id": "6fe1c692",
   "metadata": {},
   "source": [
    "### Hey Hungry Bird, Let's COde & COok"
   ]
  },
  {
   "cell_type": "code",
   "execution_count": 90,
   "id": "4d2341f8",
   "metadata": {},
   "outputs": [
    {
     "name": "stdout",
     "output_type": "stream",
     "text": [
      "Defaulting to user installation because normal site-packages is not writeable\n",
      "Requirement already satisfied: bs4 in c:\\users\\ronak\\appdata\\roaming\\python\\python39\\site-packages (0.0.1)\n",
      "Requirement already satisfied: beautifulsoup4 in c:\\programdata\\anaconda3\\lib\\site-packages (from bs4) (4.11.1)\n",
      "Requirement already satisfied: soupsieve>1.2 in c:\\programdata\\anaconda3\\lib\\site-packages (from beautifulsoup4->bs4) (2.3.1)\n"
     ]
    }
   ],
   "source": [
    "!pip install bs4"
   ]
  },
  {
   "cell_type": "code",
   "execution_count": 1,
   "id": "a11c8fdd",
   "metadata": {},
   "outputs": [],
   "source": [
    "from bs4 import BeautifulSoup\n",
    "import requests"
   ]
  },
  {
   "cell_type": "code",
   "execution_count": 2,
   "id": "ee8f775e",
   "metadata": {},
   "outputs": [],
   "source": [
    "try:# because if url is invalid then it supposed to give error which will be return from Exception\n",
    "  source = requests.get('https://www.allrecipes.com/recipe/141169/easy-indian-butter-chicken/')\n",
    "  #print(type(source))\n",
    "  source.raise_for_status()\n",
    "  soup = BeautifulSoup(source.text,'html.parser') # Type of variable soup is BeautifulSoup # It's text of html text of given website.\n",
    "\n",
    "  required=soup.find('ul',class_=\"mntl-structured-ingredients__list\") # We wrote it beause of \"table class=\"wikitable\" style=\"width=100%\"\n",
    "  # find will find perticular x ....... /x that x from whole html text\n",
    "  #print(table) # table is for this table in \n",
    "  #print(type(source))\n",
    "except Exception as e:\n",
    "  print(e)"
   ]
  },
  {
   "cell_type": "code",
   "execution_count": 3,
   "id": "4143cee2",
   "metadata": {},
   "outputs": [],
   "source": [
    "htmlofitems = required.find_all('p') "
   ]
  },
  {
   "cell_type": "code",
   "execution_count": 4,
   "id": "41bcc44d",
   "metadata": {},
   "outputs": [
    {
     "data": {
      "text/plain": [
       "[<p><span data-ingredient-quantity=\"true\">1</span> <span data-ingredient-unit=\"true\">cup</span> <span data-ingredient-name=\"true\">butter, divided</span></p>,\n",
       " <p><span data-ingredient-quantity=\"true\">1</span> <span data-ingredient-unit=\"true\"></span> <span data-ingredient-name=\"true\">onion, minced</span></p>,\n",
       " <p><span data-ingredient-quantity=\"true\">1</span> <span data-ingredient-unit=\"true\">tablespoon</span> <span data-ingredient-name=\"true\">minced garlic</span></p>,\n",
       " <p><span data-ingredient-quantity=\"true\">1</span> <span data-ingredient-unit=\"true\">(15 ounce) can</span> <span data-ingredient-name=\"true\">tomato sauce</span></p>,\n",
       " <p><span data-ingredient-quantity=\"true\">3</span> <span data-ingredient-unit=\"true\">cups</span> <span data-ingredient-name=\"true\">heavy cream</span></p>,\n",
       " <p><span data-ingredient-quantity=\"true\">2</span> <span data-ingredient-unit=\"true\">teaspoons</span> <span data-ingredient-name=\"true\">salt</span></p>,\n",
       " <p><span data-ingredient-quantity=\"true\">1</span> <span data-ingredient-unit=\"true\">teaspoon</span> <span data-ingredient-name=\"true\">cayenne pepper</span></p>,\n",
       " <p><span data-ingredient-quantity=\"true\">1</span> <span data-ingredient-unit=\"true\">teaspoon</span> <span data-ingredient-name=\"true\">garam masala</span></p>,\n",
       " <p><span data-ingredient-quantity=\"true\">1 ½</span> <span data-ingredient-unit=\"true\">pounds</span> <span data-ingredient-name=\"true\">skinless, boneless chicken breast, cut into bite-sized chunks</span></p>,\n",
       " <p><span data-ingredient-quantity=\"true\">2</span> <span data-ingredient-unit=\"true\">tablespoons</span> <span data-ingredient-name=\"true\">vegetable oil</span></p>,\n",
       " <p><span data-ingredient-quantity=\"true\">2</span> <span data-ingredient-unit=\"true\">tablespoons</span> <span data-ingredient-name=\"true\">tandoori masala</span></p>]"
      ]
     },
     "execution_count": 4,
     "metadata": {},
     "output_type": "execute_result"
    }
   ],
   "source": [
    "htmlofitems"
   ]
  },
  {
   "cell_type": "code",
   "execution_count": 5,
   "id": "d538ef97",
   "metadata": {},
   "outputs": [],
   "source": [
    "spanhtml=[]\n",
    "for i in range(0,len(htmlofitems)):\n",
    "    spanhtml1=htmlofitems[i].find_all('span')\n",
    "    spanhtml.append(spanhtml1)"
   ]
  },
  {
   "cell_type": "code",
   "execution_count": 6,
   "id": "76b5a1fe",
   "metadata": {},
   "outputs": [
    {
     "data": {
      "text/plain": [
       "[[<span data-ingredient-quantity=\"true\">1</span>,\n",
       "  <span data-ingredient-unit=\"true\">cup</span>,\n",
       "  <span data-ingredient-name=\"true\">butter, divided</span>],\n",
       " [<span data-ingredient-quantity=\"true\">1</span>,\n",
       "  <span data-ingredient-unit=\"true\"></span>,\n",
       "  <span data-ingredient-name=\"true\">onion, minced</span>],\n",
       " [<span data-ingredient-quantity=\"true\">1</span>,\n",
       "  <span data-ingredient-unit=\"true\">tablespoon</span>,\n",
       "  <span data-ingredient-name=\"true\">minced garlic</span>],\n",
       " [<span data-ingredient-quantity=\"true\">1</span>,\n",
       "  <span data-ingredient-unit=\"true\">(15 ounce) can</span>,\n",
       "  <span data-ingredient-name=\"true\">tomato sauce</span>],\n",
       " [<span data-ingredient-quantity=\"true\">3</span>,\n",
       "  <span data-ingredient-unit=\"true\">cups</span>,\n",
       "  <span data-ingredient-name=\"true\">heavy cream</span>],\n",
       " [<span data-ingredient-quantity=\"true\">2</span>,\n",
       "  <span data-ingredient-unit=\"true\">teaspoons</span>,\n",
       "  <span data-ingredient-name=\"true\">salt</span>],\n",
       " [<span data-ingredient-quantity=\"true\">1</span>,\n",
       "  <span data-ingredient-unit=\"true\">teaspoon</span>,\n",
       "  <span data-ingredient-name=\"true\">cayenne pepper</span>],\n",
       " [<span data-ingredient-quantity=\"true\">1</span>,\n",
       "  <span data-ingredient-unit=\"true\">teaspoon</span>,\n",
       "  <span data-ingredient-name=\"true\">garam masala</span>],\n",
       " [<span data-ingredient-quantity=\"true\">1 ½</span>,\n",
       "  <span data-ingredient-unit=\"true\">pounds</span>,\n",
       "  <span data-ingredient-name=\"true\">skinless, boneless chicken breast, cut into bite-sized chunks</span>],\n",
       " [<span data-ingredient-quantity=\"true\">2</span>,\n",
       "  <span data-ingredient-unit=\"true\">tablespoons</span>,\n",
       "  <span data-ingredient-name=\"true\">vegetable oil</span>],\n",
       " [<span data-ingredient-quantity=\"true\">2</span>,\n",
       "  <span data-ingredient-unit=\"true\">tablespoons</span>,\n",
       "  <span data-ingredient-name=\"true\">tandoori masala</span>]]"
      ]
     },
     "execution_count": 6,
     "metadata": {},
     "output_type": "execute_result"
    }
   ],
   "source": [
    "spanhtml"
   ]
  },
  {
   "cell_type": "code",
   "execution_count": 7,
   "id": "9404369d",
   "metadata": {},
   "outputs": [
    {
     "data": {
      "text/plain": [
       "'true'"
      ]
     },
     "execution_count": 7,
     "metadata": {},
     "output_type": "execute_result"
    }
   ],
   "source": [
    "spanhtml[0][0].get(\"data-ingredient-quantity\")"
   ]
  },
  {
   "cell_type": "code",
   "execution_count": 8,
   "id": "4a15ed96",
   "metadata": {},
   "outputs": [
    {
     "data": {
      "text/plain": [
       "[['1', 'cup', 'butter, divided'],\n",
       " ['1', 'onion, minced'],\n",
       " ['1', 'tablespoon', 'minced garlic'],\n",
       " ['1', '(15 ounce) can', 'tomato sauce'],\n",
       " ['3', 'cups', 'heavy cream'],\n",
       " ['2', 'teaspoons', 'salt'],\n",
       " ['1', 'teaspoon', 'cayenne pepper'],\n",
       " ['1', 'teaspoon', 'garam masala'],\n",
       " ['1 ½',\n",
       "  'pounds',\n",
       "  'skinless, boneless chicken breast, cut into bite-sized chunks'],\n",
       " ['2', 'tablespoons', 'vegetable oil'],\n",
       " ['2', 'tablespoons', 'tandoori masala']]"
      ]
     },
     "execution_count": 8,
     "metadata": {},
     "output_type": "execute_result"
    }
   ],
   "source": [
    "listofallitem=[]\n",
    "for i in range(len(spanhtml)):\n",
    "    singleitem=[]\n",
    "    for j in range(0,len(spanhtml[i])):\n",
    "        if spanhtml[i][j].text:\n",
    "            singleitem.append(spanhtml[i][j].text)\n",
    "    listofallitem.append(singleitem)\n",
    "listofallitem"
   ]
  },
  {
   "cell_type": "code",
   "execution_count": 26,
   "id": "2ed2f8f5",
   "metadata": {},
   "outputs": [
    {
     "name": "stdout",
     "output_type": "stream",
     "text": [
      "{'ingredient': [{'qun': '1', 'utensils': 'cup', 'ingredients': 'butter, divided'}, {'qun': '1', 'ingredients': 'onion, minced'}, {'qun': '1', 'utensils': 'tablespoon', 'ingredients': 'minced garlic'}, {'qun': '1', 'utensils': '(15 ounce) can', 'ingredients': 'tomato sauce'}, {'qun': '3', 'utensils': 'cups', 'ingredients': 'heavy cream'}, {'qun': '2', 'utensils': 'teaspoons', 'ingredients': 'salt'}, {'qun': '1', 'utensils': 'teaspoon', 'ingredients': 'cayenne pepper'}, {'qun': '1', 'utensils': 'teaspoon', 'ingredients': 'garam masala'}, {'qun': '1 ½', 'utensils': 'pounds', 'ingredients': 'skinless, boneless chicken breast, cut into bite-sized chunks'}, {'qun': '2', 'utensils': 'tablespoons', 'ingredients': 'vegetable oil'}, {'qun': '2', 'utensils': 'tablespoons', 'ingredients': 'tandoori masala'}]}\n"
     ]
    }
   ],
   "source": [
    "#FOR jdict library\n",
    "#jdict=dict()\n",
    "jdict1=dict()\n",
    "jlist=[]\n",
    "for i in range(len(spanhtml)):\n",
    "    singleitem=[]\n",
    "    singledict=dict()\n",
    "    for j in range(0,len(spanhtml[i])):\n",
    "        if spanhtml[i][j].text:\n",
    "            #print(spanhtml[i][j].text)\n",
    "            if spanhtml[i][j].get(\"data-ingredient-quantity\")=='true':\n",
    "                singledict[\"qun\"]=spanhtml[i][j].text\n",
    "            elif spanhtml[i][j].get(\"data-ingredient-unit\")=='true':\n",
    "                singledict[\"utensils\"]=spanhtml[i][j].text\n",
    "            elif spanhtml[i][j].get(\"data-ingredient-name\")=='true':\n",
    "                singledict[\"ingredients\"]=spanhtml[i][j].text\n",
    "    #print(singledict)\n",
    "    jlist.append(singledict)\n",
    "jdict['ingredient']=jlist\n",
    "#print(jdict)\n",
    "#now give value to jdict key & val as this dict"
   ]
  },
  {
   "cell_type": "markdown",
   "id": "0a10e004",
   "metadata": {},
   "source": [
    "### FOR STEPS"
   ]
  },
  {
   "cell_type": "code",
   "execution_count": 12,
   "id": "e16cd5af",
   "metadata": {},
   "outputs": [],
   "source": [
    "requiredforstep=soup.find('ol',class_=\"comp mntl-sc-block-group--OL mntl-sc-block mntl-sc-block-startgroup\")"
   ]
  },
  {
   "cell_type": "code",
   "execution_count": 27,
   "id": "b2c6e21e",
   "metadata": {},
   "outputs": [],
   "source": [
    "stephtml=requiredforstep.find_all('li')"
   ]
  },
  {
   "cell_type": "code",
   "execution_count": 28,
   "id": "1e826fcd",
   "metadata": {},
   "outputs": [
    {
     "data": {
      "text/plain": [
       "{'steps': [{'step': 0,\n",
       "   'text': 'Preheat the oven to 375 degrees F (190 degrees C).'},\n",
       "  {'step': 1,\n",
       "   'text': 'Melt 2 tablespoons butter in a skillet over medium heat. Stir in onion and garlic, and cook slowly until the onion caramelizes to a dark brown, about 15 minutes.'},\n",
       "  {'step': 2,\n",
       "   'text': 'Meanwhile, combine cream, tomato sauce, remaining butter, salt, cayenne pepper, and garam masala in a saucepan over medium-high heat; bring to a simmer. Reduce heat to medium-low, cover, and simmer, stirring occasionally, for 30 minutes. Stir in caramelized onions.'},\n",
       "  {'step': 3,\n",
       "   'text': 'While the sauce is simmering, toss chicken with vegetable oil until coated. Season with tandoori masala and spread out onto a baking sheet.'},\n",
       "  {'step': 4,\n",
       "   'text': 'Bake chicken in the preheated oven until no longer pink in the center, about 12 minutes.'},\n",
       "  {'step': 5,\n",
       "   'text': 'Add cooked chicken to the sauce and simmer for 5 minutes before serving.'}]}"
      ]
     },
     "execution_count": 28,
     "metadata": {},
     "output_type": "execute_result"
    }
   ],
   "source": [
    "#jdict for steps\n",
    "jdict=dict()\n",
    "jlist=[]\n",
    "for i in range(len(stephtml)):\n",
    "    jdict1=dict()\n",
    "    jdict1['step']=i\n",
    "    jdict1['text']=stephtml[i].text.strip()\n",
    "    #print(jdict1)\n",
    "    jlist.append(jdict1)\n",
    "jdict['steps']=jlist\n",
    "jdict\n",
    "#now add this to final code"
   ]
  },
  {
   "cell_type": "code",
   "execution_count": 29,
   "id": "6380f361",
   "metadata": {},
   "outputs": [
    {
     "data": {
      "text/plain": [
       "[['Step Number', 1, 'Preheat the oven to 375 degrees F (190 degrees C).'],\n",
       " ['Step Number',\n",
       "  2,\n",
       "  'Melt 2 tablespoons butter in a skillet over medium heat. Stir in onion and garlic, and cook slowly until the onion caramelizes to a dark brown, about 15 minutes.'],\n",
       " ['Step Number',\n",
       "  3,\n",
       "  'Meanwhile, combine cream, tomato sauce, remaining butter, salt, cayenne pepper, and garam masala in a saucepan over medium-high heat; bring to a simmer. Reduce heat to medium-low, cover, and simmer, stirring occasionally, for 30 minutes. Stir in caramelized onions.'],\n",
       " ['Step Number',\n",
       "  4,\n",
       "  'While the sauce is simmering, toss chicken with vegetable oil until coated. Season with tandoori masala and spread out onto a baking sheet.'],\n",
       " ['Step Number',\n",
       "  5,\n",
       "  'Bake chicken in the preheated oven until no longer pink in the center, about 12 minutes.'],\n",
       " ['Step Number',\n",
       "  6,\n",
       "  'Add cooked chicken to the sauce and simmer for 5 minutes before serving.']]"
      ]
     },
     "execution_count": 29,
     "metadata": {},
     "output_type": "execute_result"
    }
   ],
   "source": [
    "steps=[]\n",
    "for i in range(len(stephtml)):\n",
    "    steps.append([\"Step Number\",i+1,stephtml[i].text.strip()])\n",
    "steps"
   ]
  },
  {
   "cell_type": "code",
   "execution_count": null,
   "id": "b590f6d5",
   "metadata": {},
   "outputs": [],
   "source": []
  },
  {
   "cell_type": "markdown",
   "id": "ae916f3c",
   "metadata": {},
   "source": [
    "### Number of Servings:"
   ]
  },
  {
   "cell_type": "code",
   "execution_count": 15,
   "id": "e44e7497",
   "metadata": {},
   "outputs": [
    {
     "name": "stdout",
     "output_type": "stream",
     "text": [
      "Details for this recipe:\n",
      " \n",
      "Prep Time: : 15 mins\n",
      "Cook Time: : 45 mins\n",
      "Total Time: :  1 hrs\n",
      "Servings: : 6 \n"
     ]
    }
   ],
   "source": [
    "cooktime_Numberof_people_numerical=soup.find_all('div',class_=\"mntl-recipe-details__value\")\n",
    "cooktime_Numberof_people_catagory=soup.find_all('div',class_=\"mntl-recipe-details__label\")\n",
    "print(\"Details for this recipe:\") \n",
    "print(\" \")\n",
    "for i in range(len(cooktime_Numberof_people_catagory)):\n",
    "    print(f\"{cooktime_Numberof_people_catagory[i].text} : {cooktime_Numberof_people_numerical[i].text}\")"
   ]
  },
  {
   "cell_type": "code",
   "execution_count": 216,
   "id": "ad9d64b3",
   "metadata": {},
   "outputs": [
    {
     "data": {
      "text/plain": [
       "'Prep Time:'"
      ]
     },
     "execution_count": 216,
     "metadata": {},
     "output_type": "execute_result"
    }
   ],
   "source": [
    "cooktime_Numberof_people_catagory[0].text"
   ]
  },
  {
   "cell_type": "code",
   "execution_count": 17,
   "id": "37cc4959",
   "metadata": {},
   "outputs": [],
   "source": [
    "cooktime_Numberof_people_catagory=soup.find_all('div',class_=\"mntl-recipe-details__label\")"
   ]
  },
  {
   "cell_type": "code",
   "execution_count": 18,
   "id": "667cf6a5",
   "metadata": {},
   "outputs": [
    {
     "data": {
      "text/plain": [
       "[<div class=\"mntl-recipe-details__label\">Prep Time:</div>,\n",
       " <div class=\"mntl-recipe-details__label\">Cook Time:</div>,\n",
       " <div class=\"mntl-recipe-details__label\">Total Time:</div>,\n",
       " <div class=\"mntl-recipe-details__label\">Servings:</div>]"
      ]
     },
     "execution_count": 18,
     "metadata": {},
     "output_type": "execute_result"
    }
   ],
   "source": [
    "cooktime_Numberof_people_catagory"
   ]
  },
  {
   "cell_type": "code",
   "execution_count": 19,
   "id": "4581c281",
   "metadata": {},
   "outputs": [
    {
     "name": "stdout",
     "output_type": "stream",
     "text": [
      "Details for this recipe:\n",
      " \n",
      "Prep Time: : 15 mins\n",
      "Cook Time: : 45 mins\n",
      "Total Time: :  1 hrs\n",
      "Servings: : 6 \n"
     ]
    }
   ],
   "source": [
    "print(\"Details for this recipe:\") \n",
    "print(\" \")\n",
    "for i in range(len(cooktime_Numberof_people_catagory)):\n",
    "    print(f\"{cooktime_Numberof_people_catagory[i].text} : {cooktime_Numberof_people_numerical[i].text}\")"
   ]
  },
  {
   "cell_type": "code",
   "execution_count": 20,
   "id": "1c24903b",
   "metadata": {},
   "outputs": [],
   "source": [
    "import urllib.request"
   ]
  },
  {
   "cell_type": "code",
   "execution_count": 18,
   "id": "341a987f",
   "metadata": {},
   "outputs": [
    {
     "name": "stdout",
     "output_type": "stream",
     "text": [
      "Defaulting to user installation because normal site-packages is not writeable\n",
      "Requirement already satisfied: google in c:\\users\\ronak\\appdata\\roaming\\python\\python39\\site-packages (3.0.0)\n",
      "Requirement already satisfied: beautifulsoup4 in c:\\programdata\\anaconda3\\lib\\site-packages (from google) (4.11.1)\n",
      "Requirement already satisfied: soupsieve>1.2 in c:\\programdata\\anaconda3\\lib\\site-packages (from beautifulsoup4->google) (2.3.1)\n",
      "Note: you may need to restart the kernel to use updated packages.\n"
     ]
    }
   ],
   "source": [
    "pip install google"
   ]
  },
  {
   "cell_type": "markdown",
   "id": "514d1ecc",
   "metadata": {},
   "source": [
    "### Everything at Once!!"
   ]
  },
  {
   "cell_type": "code",
   "execution_count": 30,
   "id": "9ca0a8ba",
   "metadata": {},
   "outputs": [],
   "source": [
    "def recipe(recipename):\n",
    "#     import speech_recognition as s\n",
    "#     sr=s.Recognizer()\n",
    "#     print(\"Let me overcome your hunger!\")\n",
    "#     print(\"What you wanna cook?\")\n",
    "#     with s.Microphone() as m:\n",
    "#         audio=sr.listen(m)\n",
    "#         query=sr.recognize_google(audio,language='en-IN')\n",
    "#         print(query)\n",
    "#         areyouhungry=query\n",
    "    jdict={}\n",
    "    allwebsites=[]\n",
    "    try:\n",
    "        from googlesearch import search\n",
    "    except ImportError:\n",
    "        print(\"No module named 'google' found\")\n",
    "\n",
    "    # to search\n",
    "    query = \"allrecipes\"+\" \"+ recipename\n",
    "\n",
    "    for j in search(query, tld=\"co.in\", num=10, stop=10, pause=2):\n",
    "        allwebsites.append(j)\n",
    "    #-----------------------------------------------------------------------------------------------------------------\n",
    "    neededweb=[]\n",
    "    for web in allwebsites:\n",
    "        if 'www.allrecipes.com/recipe' in str(web):\n",
    "            neededweb.append(web)\n",
    "    print(\"Hello! Happy cooking!\")\n",
    "    print(\"link for this receip is \",neededweb[0])\n",
    "    jdict['link']=neededweb[0]\n",
    "    #-----------------------------------------------------------------------------------------------------------------\n",
    "    neededwebsite=neededweb[0]\n",
    "    \n",
    "    try:# because if url is invalid then it supposed to give error which will be return from Exception\n",
    "          source = requests.get(neededwebsite)\n",
    "          #print(type(source))\n",
    "          source.raise_for_status()\n",
    "          soup = BeautifulSoup(source.text,'html.parser') # Type of variable soup is BeautifulSoup # It's text of html text of given website.\n",
    "\n",
    "          required=soup.find('ul',class_=\"mntl-structured-ingredients__list\") # We wrote it beause of \"table class=\"wikitable\" style=\"width=100%\"\n",
    "          # find will find perticular x ....... /x that x from whole html text\n",
    "          #print(table) # table is for this table in \n",
    "          #print(type(source))\n",
    "    except Exception as e:\n",
    "          print(e)\n",
    "    htmlofitems = required.find_all('p')     \n",
    "        \n",
    "    spanhtml=[]\n",
    "    for i in range(0,len(htmlofitems)):\n",
    "        spanhtml1=htmlofitems[i].find_all('span')\n",
    "        spanhtml.append(spanhtml1)\n",
    "    listofallitem=[]\n",
    "    \n",
    "    #FOR jdict library\n",
    "    #jdict=dict()\n",
    "    jdict1=dict()\n",
    "    jlist=[]\n",
    "    for i in range(len(spanhtml)):\n",
    "        singleitem=[]\n",
    "        singledict=dict()\n",
    "        for j in range(0,len(spanhtml[i])):\n",
    "            if spanhtml[i][j].text:\n",
    "                #print(spanhtml[i][j].text)\n",
    "                if spanhtml[i][j].get(\"data-ingredient-quantity\")=='true':\n",
    "                    singledict[\"qun\"]=spanhtml[i][j].text\n",
    "                elif spanhtml[i][j].get(\"data-ingredient-unit\")=='true':\n",
    "                    singledict[\"utensils\"]=spanhtml[i][j].text\n",
    "                elif spanhtml[i][j].get(\"data-ingredient-name\")=='true':\n",
    "                    singledict[\"ingredients\"]=spanhtml[i][j].text\n",
    "    #print(singledict)\n",
    "    jlist.append(singledict)\n",
    "    jdict['ingredient']=jlist\n",
    "    #print(jdict)\n",
    "    #now give value to jdict key & val as this dict\n",
    "    \n",
    "    for i in range(len(spanhtml)):\n",
    "        singleitem=[]\n",
    "        for j in range(0,len(spanhtml[i])):\n",
    "            if spanhtml[i][j].text:\n",
    "                singleitem.append(spanhtml[i][j].text)\n",
    "        listofallitem.append(singleitem)\n",
    "    \n",
    "    cooktime_Numberof_people_numerical=soup.find_all('div',class_=\"mntl-recipe-details__value\")\n",
    "    cooktime_Numberof_people_catagory=soup.find_all('div',class_=\"mntl-recipe-details__label\")\n",
    "    print(\" \")\n",
    "    print(\"Details for this recipe:\") \n",
    "    print(\" \")\n",
    "    for i in range(len(cooktime_Numberof_people_catagory)):\n",
    "        print(f\"{cooktime_Numberof_people_catagory[i].text} : {cooktime_Numberof_people_numerical[i].text}\")\n",
    "        jdict[cooktime_Numberof_people_catagory[i].text]=cooktime_Numberof_people_numerical[i].text\n",
    "    print(\" \")\n",
    "    print(\"Here is list of all ingredients needed with it's quantity:\")\n",
    "    print(\" \")\n",
    "    id=1\n",
    "    for i in listofallitem:\n",
    "        print(f'{id}\":\"{i}')\n",
    "        id=id+1\n",
    "    print(singleitem)\n",
    "    print(\" \")\n",
    "    print(\"Let's look at steps for recipe:\")\n",
    "    print(\" \")\n",
    "    requiredforstep=soup.find('ol',class_=\"comp mntl-sc-block-group--OL mntl-sc-block mntl-sc-block-startgroup\")\n",
    "    stephtml=requiredforstep.find_all('li')\n",
    "    steps=[]\n",
    "    for i in range(len(stephtml)):\n",
    "        steps.append([f\"Step Number {i+1}: {stephtml[i].text.strip()}\"])\n",
    "    \n",
    "    #jdict for steps\n",
    "    #jdict=dict()\n",
    "    jlist=[]\n",
    "    for i in range(len(stephtml)):\n",
    "        jdict1=dict()\n",
    "        jdict1['step']=i\n",
    "        jdict1['text']=stephtml[i].text.strip()\n",
    "        #print(jdict1)\n",
    "        jlist.append(jdict1)\n",
    "    jdict['steps']=jlist\n",
    "    #jdict\n",
    "    #now add this to final code\n",
    "    \n",
    "    for i in steps:\n",
    "        for j in i:\n",
    "            print(j)\n",
    "            print(\" \")\n",
    "    print(\"You can refer same recipe via youtube based on video link below,which is best recommendation of YouTube:\")\n",
    "    \n",
    "    queryforyoutube = \"youtube\"+\"Paneer Tikka\"\n",
    "    youtubesites=[]\n",
    "    for j in search(queryforyoutube, tld=\"co.in\", num=10, stop=10, pause=2):\n",
    "        youtubesites.append(j)\n",
    "    topyoutubesite=[]\n",
    "    for web in youtubesites:\n",
    "        if 'youtube' in str(web):\n",
    "            topyoutubesite.append(web)\n",
    "    print(topyoutubesite[0])\n",
    "    jdict['TopYouTubelink']=topyoutubesite[0]\n",
    "    print(jdict)\n",
    "    import json\n",
    "    out_file = open(\"myfile.json\", \"w\")\n",
    "    a=json.dump(jdict, out_file)\n",
    "    out_file.close()"
   ]
  },
  {
   "cell_type": "code",
   "execution_count": null,
   "id": "a5427dbf",
   "metadata": {},
   "outputs": [],
   "source": []
  },
  {
   "cell_type": "code",
   "execution_count": 31,
   "id": "46caa0c2",
   "metadata": {
    "scrolled": true
   },
   "outputs": [
    {
     "name": "stdout",
     "output_type": "stream",
     "text": [
      "Hello! Happy cooking!\n",
      "link for this receip is  https://www.allrecipes.com/recipe/240652/paneer-tikka-masala/\n",
      " \n",
      "Details for this recipe:\n",
      " \n",
      "Prep Time: : 20 mins\n",
      "Cook Time: : 40 mins\n",
      "Total Time: :  1 hrs\n",
      "Servings: : 6 \n",
      " \n",
      "Here is list of all ingredients needed with it's quantity:\n",
      " \n",
      "1\":\"['¼', 'cup', 'butter']\n",
      "2\":\"['1', 'pound', 'paneer, cut into 1/2-inch cubes']\n",
      "3\":\"['2', 'medium', 'onions, finely chopped']\n",
      "4\":\"['1', 'medium', 'green bell pepper, chopped']\n",
      "5\":\"['2', 'medium', 'jalapeno peppers, chopped']\n",
      "6\":\"['1', 'tablespoon', 'ground cashews']\n",
      "7\":\"['1', 'teaspoon', 'garlic paste']\n",
      "8\":\"['1', 'teaspoon', 'ginger paste']\n",
      "9\":\"['1', 'teaspoon', 'cayenne pepper']\n",
      "10\":\"['1', 'teaspoon', 'ground cumin']\n",
      "11\":\"['1', 'teaspoon', 'ground coriander']\n",
      "12\":\"['1', 'teaspoon', 'garam masala']\n",
      "13\":\"['1', '(16 ounce) can', 'tomato sauce']\n",
      "14\":\"['1', 'pint', 'half-and-half']\n",
      "15\":\"['1', 'teaspoon', 'salt, or to taste']\n",
      "['1', 'teaspoon', 'salt, or to taste']\n",
      " \n",
      "Let's look at steps for recipe:\n",
      " \n",
      "Step Number 1: Melt butter in a skillet over medium heat. Add paneer; cook and stir until golden, about 5 minutes. Add onions, bell pepper, jalapeños, ground cashews, garlic paste, ginger paste, cayenne pepper, cumin, coriander, and garam masala; cook and stir until well combined and fragrant, about 1 minute.\n",
      " \n",
      "Step Number 2: Mix tomato sauce, half-and-half, and salt into paneer mixture; simmer until thickened, about 30 minutes.\n",
      " \n",
      "You can refer same recipe via youtube based on video link below,which is best recommendation of YouTube:\n",
      "https://www.youtube.com/watch?v=hsR0JaD1TyA\n",
      "{'link': 'https://www.allrecipes.com/recipe/240652/paneer-tikka-masala/', 'ingredient': [{'qun': '1', 'utensils': 'teaspoon', 'ingredients': 'salt, or to taste'}], 'Prep Time:': '20 mins', 'Cook Time:': '40 mins', 'Total Time:': ' 1 hrs', 'Servings:': '6 ', 'steps': [{'step': 0, 'text': 'Melt butter in a skillet over medium heat. Add paneer; cook and stir until golden, about 5 minutes. Add onions, bell pepper, jalapeños, ground cashews, garlic paste, ginger paste, cayenne pepper, cumin, coriander, and garam masala; cook and stir until well combined and fragrant, about 1 minute.'}, {'step': 1, 'text': 'Mix tomato sauce, half-and-half, and salt into paneer mixture; simmer until thickened, about 30 minutes.'}], 'TopYouTubelink': 'https://www.youtube.com/watch?v=hsR0JaD1TyA'}\n"
     ]
    }
   ],
   "source": [
    "recipe('Paneer Tikka')"
   ]
  },
  {
   "cell_type": "code",
   "execution_count": 251,
   "id": "2ee5296d",
   "metadata": {},
   "outputs": [
    {
     "data": {
      "text/plain": [
       "[['Step Number',\n",
       "  1,\n",
       "  'Heat oil in a large skillet over medium heat; fry paneer in batches until golden, about 5 minutes. Transfer fried paneer to a paper towel-lined plate to drain, retaining vegetable oil in skillet.'],\n",
       " ['Step Number',\n",
       "  2,\n",
       "  'Melt butter in the same skillet over medium heat; cook and stir onion until golden brown, about 10 minutes. Add ginger paste and garlic paste. Continue to cook until fragrant, about 1 minute more. Stir cashews, ground red chiles, cumin, coriander, and garam masala into the onion mixture. Cook and stir for 1 minute.'],\n",
       " ['Step Number',\n",
       "  3,\n",
       "  'Stir tomato sauce, half-and-half, milk, sugar, and salt into spice mixture; simmer until thickened, about 5 minutes. Reduce heat to low. Add fried paneer and simmer until heated through, about 5 minutes more.']]"
      ]
     },
     "execution_count": 251,
     "metadata": {},
     "output_type": "execute_result"
    }
   ],
   "source": [
    "steps"
   ]
  },
  {
   "cell_type": "code",
   "execution_count": 32,
   "id": "f534a730",
   "metadata": {},
   "outputs": [
    {
     "name": "stdout",
     "output_type": "stream",
     "text": [
      "Hello! Happy cooking!\n",
      "link for this receip is  https://www.allrecipes.com/recipe/141169/easy-indian-butter-chicken/\n",
      " \n",
      "Details for this recipe:\n",
      " \n",
      "Prep Time: : 15 mins\n",
      "Cook Time: : 45 mins\n",
      "Total Time: :  1 hrs\n",
      "Servings: : 6 \n",
      " \n",
      "Here is list of all ingredients needed with it's quantity:\n",
      " \n",
      "1\":\"['1', 'cup', 'butter, divided']\n",
      "2\":\"['1', 'onion, minced']\n",
      "3\":\"['1', 'tablespoon', 'minced garlic']\n",
      "4\":\"['1', '(15 ounce) can', 'tomato sauce']\n",
      "5\":\"['3', 'cups', 'heavy cream']\n",
      "6\":\"['2', 'teaspoons', 'salt']\n",
      "7\":\"['1', 'teaspoon', 'cayenne pepper']\n",
      "8\":\"['1', 'teaspoon', 'garam masala']\n",
      "9\":\"['1 ½', 'pounds', 'skinless, boneless chicken breast, cut into bite-sized chunks']\n",
      "10\":\"['2', 'tablespoons', 'vegetable oil']\n",
      "11\":\"['2', 'tablespoons', 'tandoori masala']\n",
      "['2', 'tablespoons', 'tandoori masala']\n",
      " \n",
      "Let's look at steps for recipe:\n",
      " \n",
      "Step Number 1: Preheat the oven to 375 degrees F (190 degrees C).\n",
      " \n",
      "Step Number 2: Melt 2 tablespoons butter in a skillet over medium heat. Stir in onion and garlic, and cook slowly until the onion caramelizes to a dark brown, about 15 minutes.\n",
      " \n",
      "Step Number 3: Meanwhile, combine cream, tomato sauce, remaining butter, salt, cayenne pepper, and garam masala in a saucepan over medium-high heat; bring to a simmer. Reduce heat to medium-low, cover, and simmer, stirring occasionally, for 30 minutes. Stir in caramelized onions.\n",
      " \n",
      "Step Number 4: While the sauce is simmering, toss chicken with vegetable oil until coated. Season with tandoori masala and spread out onto a baking sheet.\n",
      " \n",
      "Step Number 5: Bake chicken in the preheated oven until no longer pink in the center, about 12 minutes.\n",
      " \n",
      "Step Number 6: Add cooked chicken to the sauce and simmer for 5 minutes before serving.\n",
      " \n",
      "You can refer same recipe via youtube based on video link below,which is best recommendation of YouTube:\n",
      "https://www.youtube.com/watch?v=hsR0JaD1TyA\n",
      "{'link': 'https://www.allrecipes.com/recipe/141169/easy-indian-butter-chicken/', 'ingredient': [{'qun': '2', 'utensils': 'tablespoons', 'ingredients': 'tandoori masala'}], 'Prep Time:': '15 mins', 'Cook Time:': '45 mins', 'Total Time:': ' 1 hrs', 'Servings:': '6 ', 'steps': [{'step': 0, 'text': 'Preheat the oven to 375 degrees F (190 degrees C).'}, {'step': 1, 'text': 'Melt 2 tablespoons butter in a skillet over medium heat. Stir in onion and garlic, and cook slowly until the onion caramelizes to a dark brown, about 15 minutes.'}, {'step': 2, 'text': 'Meanwhile, combine cream, tomato sauce, remaining butter, salt, cayenne pepper, and garam masala in a saucepan over medium-high heat; bring to a simmer. Reduce heat to medium-low, cover, and simmer, stirring occasionally, for 30 minutes. Stir in caramelized onions.'}, {'step': 3, 'text': 'While the sauce is simmering, toss chicken with vegetable oil until coated. Season with tandoori masala and spread out onto a baking sheet.'}, {'step': 4, 'text': 'Bake chicken in the preheated oven until no longer pink in the center, about 12 minutes.'}, {'step': 5, 'text': 'Add cooked chicken to the sauce and simmer for 5 minutes before serving.'}], 'TopYouTubelink': 'https://www.youtube.com/watch?v=hsR0JaD1TyA'}\n"
     ]
    }
   ],
   "source": [
    "recipe(\"Chicken Butter Masala\")"
   ]
  },
  {
   "cell_type": "code",
   "execution_count": 33,
   "id": "a979c59f",
   "metadata": {},
   "outputs": [
    {
     "name": "stdout",
     "output_type": "stream",
     "text": [
      "Hello! Happy cooking!\n",
      "link for this receip is  https://www.allrecipes.com/recipe/21060/toasted-garlic-bread/\n",
      " \n",
      "Details for this recipe:\n",
      " \n",
      "Prep Time: : 10 mins\n",
      "Cook Time: : 5 mins\n",
      "Total Time: : 15 mins\n",
      "Servings: : 10 \n",
      " \n",
      "Here is list of all ingredients needed with it's quantity:\n",
      " \n",
      "1\":\"['1', '(1 pound) loaf', 'Italian bread']\n",
      "2\":\"['5', 'tablespoons', 'butter, softened']\n",
      "3\":\"['3', 'cloves', 'garlic, crushed']\n",
      "4\":\"['2', 'teaspoons', 'extra virgin olive oil']\n",
      "5\":\"['1', 'teaspoon', 'dried oregano']\n",
      "6\":\"['salt and pepper to taste']\n",
      "7\":\"['1', 'cup', 'shredded mozzarella cheese']\n",
      "['1', 'cup', 'shredded mozzarella cheese']\n",
      " \n",
      "Let's look at steps for recipe:\n",
      " \n",
      "Step Number 1: Set an oven rack about 6 inches from the heat source and preheat the oven's broiler. Cut loaf into ten 1-inch slices.\n",
      " \n",
      "Step Number 2: Mix butter, garlic, oil, oregano, salt, and pepper together in a bowl; spread butter mixture on one side of each slice of bread; arrange bread slices, butter-side up, in a single layer on a baking sheet.\n",
      " \n",
      "Step Number 3: Cook under the preheated broiler until slightly brown, checking frequently so they do not burn, about 3 minutes.\n",
      " \n",
      "Step Number 4: Top bread slices with cheese and return to broiler until cheese is slightly brown and melted, about 2 minutes. Serve hot.\n",
      " \n",
      "You can refer same recipe via youtube based on video link below,which is best recommendation of YouTube:\n",
      "https://www.youtube.com/watch?v=hsR0JaD1TyA\n",
      "{'link': 'https://www.allrecipes.com/recipe/21060/toasted-garlic-bread/', 'ingredient': [{'qun': '1', 'utensils': 'cup', 'ingredients': 'shredded mozzarella cheese'}], 'Prep Time:': '10 mins', 'Cook Time:': '5 mins', 'Total Time:': '15 mins', 'Servings:': '10 ', 'steps': [{'step': 0, 'text': \"Set an oven rack about 6 inches from the heat source and preheat the oven's broiler. Cut loaf into ten 1-inch slices.\"}, {'step': 1, 'text': 'Mix butter, garlic, oil, oregano, salt, and pepper together in a bowl; spread butter mixture on one side of each slice of bread; arrange bread slices, butter-side up, in a single layer on a baking sheet.'}, {'step': 2, 'text': 'Cook under the preheated broiler until slightly brown, checking frequently so they do not burn, about 3 minutes.'}, {'step': 3, 'text': 'Top bread slices with cheese and return to broiler until cheese is slightly brown and melted, about 2 minutes. Serve hot.'}], 'TopYouTubelink': 'https://www.youtube.com/watch?v=hsR0JaD1TyA'}\n"
     ]
    }
   ],
   "source": [
    "recipe(\"Garlic Bread\")"
   ]
  },
  {
   "cell_type": "markdown",
   "id": "4460327c",
   "metadata": {},
   "source": [
    "### Enjoy Your Food!!!\n",
    "### Bye"
   ]
  },
  {
   "cell_type": "code",
   "execution_count": 34,
   "id": "9939e5ef",
   "metadata": {},
   "outputs": [],
   "source": [
    "try:# because if url is invalid then it supposed to give error which will be return from Exception\n",
    "    source = requests.get(' https://www.allrecipes.com/recipe/141169/easy-indian-butter-chicken/')\n",
    "    #print(type(source))\n",
    "    source.raise_for_status()\n",
    "    soup = BeautifulSoup(source.text,'html.parser') \n",
    "except Exception as e:\n",
    "  print(e)"
   ]
  },
  {
   "cell_type": "code",
   "execution_count": 35,
   "id": "44b6ab66",
   "metadata": {},
   "outputs": [
    {
     "name": "stdout",
     "output_type": "stream",
     "text": [
      "Hello! Happy cooking!\n"
     ]
    },
    {
     "ename": "IndexError",
     "evalue": "list index out of range",
     "output_type": "error",
     "traceback": [
      "\u001b[1;31m---------------------------------------------------------------------------\u001b[0m",
      "\u001b[1;31mIndexError\u001b[0m                                Traceback (most recent call last)",
      "Input \u001b[1;32mIn [35]\u001b[0m, in \u001b[0;36m<cell line: 1>\u001b[1;34m()\u001b[0m\n\u001b[1;32m----> 1\u001b[0m \u001b[43mrecipe\u001b[49m\u001b[43m(\u001b[49m\u001b[38;5;124;43m'\u001b[39;49m\u001b[38;5;124;43mareyouhungry?\u001b[39;49m\u001b[38;5;124;43m'\u001b[39;49m\u001b[43m)\u001b[49m\n",
      "Input \u001b[1;32mIn [30]\u001b[0m, in \u001b[0;36mrecipe\u001b[1;34m(recipename)\u001b[0m\n\u001b[0;32m     27\u001b[0m         neededweb\u001b[38;5;241m.\u001b[39mappend(web)\n\u001b[0;32m     28\u001b[0m \u001b[38;5;28mprint\u001b[39m(\u001b[38;5;124m\"\u001b[39m\u001b[38;5;124mHello! Happy cooking!\u001b[39m\u001b[38;5;124m\"\u001b[39m)\n\u001b[1;32m---> 29\u001b[0m \u001b[38;5;28mprint\u001b[39m(\u001b[38;5;124m\"\u001b[39m\u001b[38;5;124mlink for this receip is \u001b[39m\u001b[38;5;124m\"\u001b[39m,\u001b[43mneededweb\u001b[49m\u001b[43m[\u001b[49m\u001b[38;5;241;43m0\u001b[39;49m\u001b[43m]\u001b[49m)\n\u001b[0;32m     30\u001b[0m jdict[\u001b[38;5;124m'\u001b[39m\u001b[38;5;124mlink\u001b[39m\u001b[38;5;124m'\u001b[39m]\u001b[38;5;241m=\u001b[39mneededweb[\u001b[38;5;241m0\u001b[39m]\n\u001b[0;32m     31\u001b[0m \u001b[38;5;66;03m#-----------------------------------------------------------------------------------------------------------------\u001b[39;00m\n",
      "\u001b[1;31mIndexError\u001b[0m: list index out of range"
     ]
    }
   ],
   "source": [
    "recipe('areyouhungry?')"
   ]
  },
  {
   "cell_type": "code",
   "execution_count": null,
   "id": "110cf80a",
   "metadata": {},
   "outputs": [],
   "source": [
    " https://www.allrecipes.com/recipe/141169/easy-indian-butter-chicken/"
   ]
  },
  {
   "cell_type": "code",
   "execution_count": null,
   "id": "1451be40",
   "metadata": {},
   "outputs": [],
   "source": [
    "steps"
   ]
  },
  {
   "cell_type": "code",
   "execution_count": null,
   "id": "538e2fc0",
   "metadata": {},
   "outputs": [],
   "source": [
    "a=[]\n",
    "for i in range(len(soup.find_all('p'))+1):\n",
    "    a.append(soup.find_all('p'))\n",
    "# a=soup.find_all('p')[2]\n",
    "a"
   ]
  },
  {
   "cell_type": "code",
   "execution_count": 36,
   "id": "120b67a8",
   "metadata": {},
   "outputs": [
    {
     "name": "stdout",
     "output_type": "stream",
     "text": [
      "23\n"
     ]
    },
    {
     "data": {
      "text/plain": [
       "['butter, divided',\n",
       " 'onion, minced',\n",
       " 'minced garlic',\n",
       " 'tomato sauce',\n",
       " 'heavy cream',\n",
       " 'salt',\n",
       " 'cayenne pepper',\n",
       " 'garam masala',\n",
       " 'skinless, boneless chicken breast, cut into bite-sized chunks',\n",
       " 'vegetable oil',\n",
       " 'tandoori masala']"
      ]
     },
     "execution_count": 36,
     "metadata": {},
     "output_type": "execute_result"
    }
   ],
   "source": [
    "s=soup.find('ul',class_='mntl-structured-ingredients__list')\n",
    "ingredient=[]\n",
    "print(len(s))\n",
    "for i in range(0,len(s.find_all('p'))):\n",
    "    ingredient.append(s.find_all('p')[i].find_all('span')[2].text)\n",
    "ingredient"
   ]
  },
  {
   "cell_type": "code",
   "execution_count": 37,
   "id": "0a676228",
   "metadata": {},
   "outputs": [
    {
     "data": {
      "text/plain": [
       "'While the sauce is simmering, toss chicken with vegetable oil until coated. Season with tandoori masala and spread out onto a baking sheet.'"
      ]
     },
     "execution_count": 37,
     "metadata": {},
     "output_type": "execute_result"
    }
   ],
   "source": [
    "sp=[]\n",
    "for i in range(len(steps)):\n",
    "    sp.append(steps[i][2])\n",
    "sp[3]"
   ]
  },
  {
   "cell_type": "code",
   "execution_count": 38,
   "id": "c16c02d4",
   "metadata": {},
   "outputs": [],
   "source": [
    "def ingredientsinstep(stepno):\n",
    "    s=soup.find('ul',class_='mntl-structured-ingredients__list')\n",
    "    ingredient1=[]\n",
    "    ingredient=[]\n",
    "    #print(len(s))\n",
    "    for i in range(0,len(s.find_all('p'))):\n",
    "        ingredient1.append(s.find_all('p')[i].find_all('span')[2].text.split(\" \")) \n",
    "    for i in ingredient1:\n",
    "        for j in i:\n",
    "            ingredient.append(j)\n",
    "    print(ingredient)\n",
    "    sp=[] #searchstep\n",
    "    for i in range(len(steps)):\n",
    "        sp.append(steps[i][2])\n",
    "    searchinstep=sp[int(stepno)]\n",
    "    listofwords=searchinstep.split(\" \")\n",
    "    print(listofwords)\n",
    "    \n",
    "    ingredientsingivenstep=[]\n",
    "    for j in ingredient1:\n",
    "        for i in listofwords:\n",
    "            if i in j:\n",
    "                print(i)\n",
    "                ingredientsingivenstep.append(' '.join(map(str, j)))\n",
    "    print(set(ingredientsingivenstep))\n",
    "    ans=list(set(listofwords) & set(ingredient))\n",
    "    print(ans)"
   ]
  },
  {
   "cell_type": "code",
   "execution_count": 39,
   "id": "5238da24",
   "metadata": {},
   "outputs": [
    {
     "name": "stdout",
     "output_type": "stream",
     "text": [
      "['butter,', 'divided', 'onion,', 'minced', 'minced', 'garlic', 'tomato', 'sauce', 'heavy', 'cream', 'salt', 'cayenne', 'pepper', 'garam', 'masala', 'skinless,', 'boneless', 'chicken', 'breast,', 'cut', 'into', 'bite-sized', 'chunks', 'vegetable', 'oil', 'tandoori', 'masala']\n",
      "['While', 'the', 'sauce', 'is', 'simmering,', 'toss', 'chicken', 'with', 'vegetable', 'oil', 'until', 'coated.', 'Season', 'with', 'tandoori', 'masala', 'and', 'spread', 'out', 'onto', 'a', 'baking', 'sheet.']\n",
      "sauce\n",
      "masala\n",
      "chicken\n",
      "vegetable\n",
      "oil\n",
      "tandoori\n",
      "masala\n",
      "{'vegetable oil', 'garam masala', 'skinless, boneless chicken breast, cut into bite-sized chunks', 'tomato sauce', 'tandoori masala'}\n",
      "['tandoori', 'oil', 'masala', 'chicken', 'sauce', 'vegetable']\n"
     ]
    }
   ],
   "source": [
    "ingredientsinstep(3)"
   ]
  },
  {
   "cell_type": "code",
   "execution_count": 40,
   "id": "68d4ca7a",
   "metadata": {},
   "outputs": [
    {
     "name": "stdout",
     "output_type": "stream",
     "text": [
      "one two three\n"
     ]
    }
   ],
   "source": [
    "my_list = ['one', 'two', 'three']\n",
    "\n",
    "my_str = ' '.join(map(str, my_list))\n",
    "\n",
    "print(my_str)  # 👉️ 'one-two-three'\n"
   ]
  }
 ],
 "metadata": {
  "kernelspec": {
   "display_name": "Python 3 (ipykernel)",
   "language": "python",
   "name": "python3"
  },
  "language_info": {
   "codemirror_mode": {
    "name": "ipython",
    "version": 3
   },
   "file_extension": ".py",
   "mimetype": "text/x-python",
   "name": "python",
   "nbconvert_exporter": "python",
   "pygments_lexer": "ipython3",
   "version": "3.9.12"
  }
 },
 "nbformat": 4,
 "nbformat_minor": 5
}
