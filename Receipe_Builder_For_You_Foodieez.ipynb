{
 "cells": [
  {
   "cell_type": "markdown",
   "id": "6fe1c692",
   "metadata": {},
   "source": [
    "### Hey Hungry Bird, Let's COde & COok"
   ]
  },
  {
   "cell_type": "code",
   "execution_count": 1,
   "id": "4d2341f8",
   "metadata": {},
   "outputs": [
    {
     "name": "stdout",
     "output_type": "stream",
     "text": [
      "Defaulting to user installation because normal site-packages is not writeable\n",
      "Requirement already satisfied: bs4 in c:\\users\\ronak\\appdata\\roaming\\python\\python39\\site-packages (0.0.1)\n",
      "Requirement already satisfied: beautifulsoup4 in c:\\programdata\\anaconda3\\lib\\site-packages (from bs4) (4.11.1)\n",
      "Requirement already satisfied: soupsieve>1.2 in c:\\programdata\\anaconda3\\lib\\site-packages (from beautifulsoup4->bs4) (2.3.1)\n"
     ]
    }
   ],
   "source": [
    "!pip install bs4"
   ]
  },
  {
   "cell_type": "code",
   "execution_count": 2,
   "id": "a11c8fdd",
   "metadata": {},
   "outputs": [],
   "source": [
    "from bs4 import BeautifulSoup\n",
    "import requests"
   ]
  },
  {
   "cell_type": "code",
   "execution_count": 3,
   "id": "ee8f775e",
   "metadata": {},
   "outputs": [],
   "source": [
    "try:# because if url is invalid then it supposed to give error which will be return from Exception\n",
    "  source = requests.get('https://www.allrecipes.com/recipe/232203/paneer-butter-masala/')\n",
    "  #print(type(source))\n",
    "  source.raise_for_status()\n",
    "  soup = BeautifulSoup(source.text,'html.parser') # Type of variable soup is BeautifulSoup # It's text of html text of given website.\n",
    "\n",
    "  required=soup.find('ul',class_=\"mntl-structured-ingredients__list\") # We wrote it beause of \"table class=\"wikitable\" style=\"width=100%\"\n",
    "  # find will find perticular x ....... /x that x from whole html text\n",
    "  #print(table) # table is for this table in \n",
    "  #print(type(source))\n",
    "except Exception as e:\n",
    "  print(e)"
   ]
  },
  {
   "cell_type": "code",
   "execution_count": 4,
   "id": "4143cee2",
   "metadata": {},
   "outputs": [],
   "source": [
    "htmlofitems = required.find_all('p') "
   ]
  },
  {
   "cell_type": "code",
   "execution_count": 5,
   "id": "41bcc44d",
   "metadata": {},
   "outputs": [
    {
     "data": {
      "text/plain": [
       "[<p><span data-ingredient-quantity=\"true\">½</span> <span data-ingredient-unit=\"true\">cup</span> <span data-ingredient-name=\"true\">vegetable oil</span></p>,\n",
       " <p><span data-ingredient-quantity=\"true\">½</span> <span data-ingredient-unit=\"true\">pound</span> <span data-ingredient-name=\"true\">paneer, cut into 1/2-inch cubes</span></p>,\n",
       " <p><span data-ingredient-quantity=\"true\">2</span> <span data-ingredient-unit=\"true\">tablespoons</span> <span data-ingredient-name=\"true\">butter</span></p>,\n",
       " <p><span data-ingredient-quantity=\"true\">2</span> <span data-ingredient-unit=\"true\"></span> <span data-ingredient-name=\"true\">onions, finely chopped</span></p>,\n",
       " <p><span data-ingredient-quantity=\"true\">1</span> <span data-ingredient-unit=\"true\">teaspoon</span> <span data-ingredient-name=\"true\">ginger paste</span></p>,\n",
       " <p><span data-ingredient-quantity=\"true\">1</span> <span data-ingredient-unit=\"true\">teaspoon</span> <span data-ingredient-name=\"true\">garlic paste</span></p>,\n",
       " <p><span data-ingredient-quantity=\"true\">1</span> <span data-ingredient-unit=\"true\">tablespoon</span> <span data-ingredient-name=\"true\">ground cashews</span></p>,\n",
       " <p><span data-ingredient-quantity=\"true\">1</span> <span data-ingredient-unit=\"true\">teaspoon</span> <span data-ingredient-name=\"true\">ground red chiles</span></p>,\n",
       " <p><span data-ingredient-quantity=\"true\">½</span> <span data-ingredient-unit=\"true\">teaspoon</span> <span data-ingredient-name=\"true\">ground cumin</span></p>,\n",
       " <p><span data-ingredient-quantity=\"true\">½</span> <span data-ingredient-unit=\"true\">teaspoon</span> <span data-ingredient-name=\"true\">ground coriander</span></p>,\n",
       " <p><span data-ingredient-quantity=\"true\">½</span> <span data-ingredient-unit=\"true\">teaspoon</span> <span data-ingredient-name=\"true\">garam masala</span></p>,\n",
       " <p><span data-ingredient-quantity=\"true\">1</span> <span data-ingredient-unit=\"true\">(8 ounce) can</span> <span data-ingredient-name=\"true\">tomato sauce</span></p>,\n",
       " <p><span data-ingredient-quantity=\"true\">½</span> <span data-ingredient-unit=\"true\">cup</span> <span data-ingredient-name=\"true\">half-and-half</span></p>,\n",
       " <p><span data-ingredient-quantity=\"true\">½</span> <span data-ingredient-unit=\"true\">cup</span> <span data-ingredient-name=\"true\">milk</span></p>,\n",
       " <p><span data-ingredient-quantity=\"true\">½</span> <span data-ingredient-unit=\"true\">teaspoon</span> <span data-ingredient-name=\"true\">white sugar</span></p>,\n",
       " <p><span data-ingredient-quantity=\"true\">½</span> <span data-ingredient-unit=\"true\">teaspoon</span> <span data-ingredient-name=\"true\">salt</span></p>]"
      ]
     },
     "execution_count": 5,
     "metadata": {},
     "output_type": "execute_result"
    }
   ],
   "source": [
    "htmlofitems"
   ]
  },
  {
   "cell_type": "code",
   "execution_count": 6,
   "id": "d538ef97",
   "metadata": {},
   "outputs": [],
   "source": [
    "spanhtml=[]\n",
    "for i in range(0,len(htmlofitems)):\n",
    "    spanhtml1=htmlofitems[i].find_all('span')\n",
    "    spanhtml.append(spanhtml1)"
   ]
  },
  {
   "cell_type": "code",
   "execution_count": 7,
   "id": "76b5a1fe",
   "metadata": {},
   "outputs": [
    {
     "data": {
      "text/plain": [
       "[[<span data-ingredient-quantity=\"true\">½</span>,\n",
       "  <span data-ingredient-unit=\"true\">cup</span>,\n",
       "  <span data-ingredient-name=\"true\">vegetable oil</span>],\n",
       " [<span data-ingredient-quantity=\"true\">½</span>,\n",
       "  <span data-ingredient-unit=\"true\">pound</span>,\n",
       "  <span data-ingredient-name=\"true\">paneer, cut into 1/2-inch cubes</span>],\n",
       " [<span data-ingredient-quantity=\"true\">2</span>,\n",
       "  <span data-ingredient-unit=\"true\">tablespoons</span>,\n",
       "  <span data-ingredient-name=\"true\">butter</span>],\n",
       " [<span data-ingredient-quantity=\"true\">2</span>,\n",
       "  <span data-ingredient-unit=\"true\"></span>,\n",
       "  <span data-ingredient-name=\"true\">onions, finely chopped</span>],\n",
       " [<span data-ingredient-quantity=\"true\">1</span>,\n",
       "  <span data-ingredient-unit=\"true\">teaspoon</span>,\n",
       "  <span data-ingredient-name=\"true\">ginger paste</span>],\n",
       " [<span data-ingredient-quantity=\"true\">1</span>,\n",
       "  <span data-ingredient-unit=\"true\">teaspoon</span>,\n",
       "  <span data-ingredient-name=\"true\">garlic paste</span>],\n",
       " [<span data-ingredient-quantity=\"true\">1</span>,\n",
       "  <span data-ingredient-unit=\"true\">tablespoon</span>,\n",
       "  <span data-ingredient-name=\"true\">ground cashews</span>],\n",
       " [<span data-ingredient-quantity=\"true\">1</span>,\n",
       "  <span data-ingredient-unit=\"true\">teaspoon</span>,\n",
       "  <span data-ingredient-name=\"true\">ground red chiles</span>],\n",
       " [<span data-ingredient-quantity=\"true\">½</span>,\n",
       "  <span data-ingredient-unit=\"true\">teaspoon</span>,\n",
       "  <span data-ingredient-name=\"true\">ground cumin</span>],\n",
       " [<span data-ingredient-quantity=\"true\">½</span>,\n",
       "  <span data-ingredient-unit=\"true\">teaspoon</span>,\n",
       "  <span data-ingredient-name=\"true\">ground coriander</span>],\n",
       " [<span data-ingredient-quantity=\"true\">½</span>,\n",
       "  <span data-ingredient-unit=\"true\">teaspoon</span>,\n",
       "  <span data-ingredient-name=\"true\">garam masala</span>],\n",
       " [<span data-ingredient-quantity=\"true\">1</span>,\n",
       "  <span data-ingredient-unit=\"true\">(8 ounce) can</span>,\n",
       "  <span data-ingredient-name=\"true\">tomato sauce</span>],\n",
       " [<span data-ingredient-quantity=\"true\">½</span>,\n",
       "  <span data-ingredient-unit=\"true\">cup</span>,\n",
       "  <span data-ingredient-name=\"true\">half-and-half</span>],\n",
       " [<span data-ingredient-quantity=\"true\">½</span>,\n",
       "  <span data-ingredient-unit=\"true\">cup</span>,\n",
       "  <span data-ingredient-name=\"true\">milk</span>],\n",
       " [<span data-ingredient-quantity=\"true\">½</span>,\n",
       "  <span data-ingredient-unit=\"true\">teaspoon</span>,\n",
       "  <span data-ingredient-name=\"true\">white sugar</span>],\n",
       " [<span data-ingredient-quantity=\"true\">½</span>,\n",
       "  <span data-ingredient-unit=\"true\">teaspoon</span>,\n",
       "  <span data-ingredient-name=\"true\">salt</span>]]"
      ]
     },
     "execution_count": 7,
     "metadata": {},
     "output_type": "execute_result"
    }
   ],
   "source": [
    "spanhtml"
   ]
  },
  {
   "cell_type": "code",
   "execution_count": 8,
   "id": "4a15ed96",
   "metadata": {},
   "outputs": [
    {
     "data": {
      "text/plain": [
       "[['½', 'cup', 'vegetable oil'],\n",
       " ['½', 'pound', 'paneer, cut into 1/2-inch cubes'],\n",
       " ['2', 'tablespoons', 'butter'],\n",
       " ['2', 'onions, finely chopped'],\n",
       " ['1', 'teaspoon', 'ginger paste'],\n",
       " ['1', 'teaspoon', 'garlic paste'],\n",
       " ['1', 'tablespoon', 'ground cashews'],\n",
       " ['1', 'teaspoon', 'ground red chiles'],\n",
       " ['½', 'teaspoon', 'ground cumin'],\n",
       " ['½', 'teaspoon', 'ground coriander'],\n",
       " ['½', 'teaspoon', 'garam masala'],\n",
       " ['1', '(8 ounce) can', 'tomato sauce'],\n",
       " ['½', 'cup', 'half-and-half'],\n",
       " ['½', 'cup', 'milk'],\n",
       " ['½', 'teaspoon', 'white sugar'],\n",
       " ['½', 'teaspoon', 'salt']]"
      ]
     },
     "execution_count": 8,
     "metadata": {},
     "output_type": "execute_result"
    }
   ],
   "source": [
    "listofallitem=[]\n",
    "for i in range(len(spanhtml)):\n",
    "    singleitem=[]\n",
    "    \n",
    "    for j in range(0,len(spanhtml[i])):\n",
    "        if spanhtml[i][j].text:\n",
    "            singleitem.append(spanhtml[i][j].text)\n",
    "    listofallitem.append(singleitem)\n",
    "listofallitem"
   ]
  },
  {
   "cell_type": "markdown",
   "id": "0a10e004",
   "metadata": {},
   "source": [
    "### FOR STEPS"
   ]
  },
  {
   "cell_type": "code",
   "execution_count": 9,
   "id": "e16cd5af",
   "metadata": {},
   "outputs": [],
   "source": [
    "requiredforstep=soup.find('ol',class_=\"comp mntl-sc-block-group--OL mntl-sc-block mntl-sc-block-startgroup\")"
   ]
  },
  {
   "cell_type": "code",
   "execution_count": 10,
   "id": "b2c6e21e",
   "metadata": {},
   "outputs": [],
   "source": [
    "stephtml=requiredforstep.find_all('li')"
   ]
  },
  {
   "cell_type": "code",
   "execution_count": 11,
   "id": "6380f361",
   "metadata": {},
   "outputs": [
    {
     "data": {
      "text/plain": [
       "[['Step Number',\n",
       "  1,\n",
       "  'Heat oil in a large skillet over medium heat; fry paneer in batches until golden, about 5 minutes. Transfer fried paneer to a paper towel-lined plate to drain, retaining vegetable oil in skillet.'],\n",
       " ['Step Number',\n",
       "  2,\n",
       "  'Melt butter in the same skillet over medium heat; cook and stir onion until golden brown, about 10 minutes. Add ginger paste and garlic paste. Continue to cook until fragrant, about 1 minute more. Stir cashews, ground red chiles, cumin, coriander, and garam masala into the onion mixture. Cook and stir for 1 minute.'],\n",
       " ['Step Number',\n",
       "  3,\n",
       "  'Stir tomato sauce, half-and-half, milk, sugar, and salt into spice mixture; simmer until thickened, about 5 minutes. Reduce heat to low. Add fried paneer and simmer until heated through, about 5 minutes more.']]"
      ]
     },
     "execution_count": 11,
     "metadata": {},
     "output_type": "execute_result"
    }
   ],
   "source": [
    "steps=[]\n",
    "for i in range(len(stephtml)):\n",
    "    steps.append([\"Step Number\",i+1,stephtml[i].text.strip()])\n",
    "steps"
   ]
  },
  {
   "cell_type": "markdown",
   "id": "ae916f3c",
   "metadata": {},
   "source": [
    "### Number of Servings:"
   ]
  },
  {
   "cell_type": "code",
   "execution_count": 12,
   "id": "e44e7497",
   "metadata": {},
   "outputs": [
    {
     "name": "stdout",
     "output_type": "stream",
     "text": [
      "Details for this recipe:\n",
      " \n",
      "Prep Time: : 10 mins\n",
      "Cook Time: : 20 mins\n",
      "Total Time: : 30 mins\n",
      "Servings: : 4 \n"
     ]
    }
   ],
   "source": [
    "cooktime_Numberof_people_numerical=soup.find_all('div',class_=\"mntl-recipe-details__value\")\n",
    "cooktime_Numberof_people_catagory=soup.find_all('div',class_=\"mntl-recipe-details__label\")\n",
    "print(\"Details for this recipe:\") \n",
    "print(\" \")\n",
    "for i in range(len(cooktime_Numberof_people_catagory)):\n",
    "    print(f\"{cooktime_Numberof_people_catagory[i].text} : {cooktime_Numberof_people_numerical[i].text}\")"
   ]
  },
  {
   "cell_type": "code",
   "execution_count": 13,
   "id": "ad9d64b3",
   "metadata": {},
   "outputs": [
    {
     "data": {
      "text/plain": [
       "[<div class=\"mntl-recipe-details__value\">10 mins</div>,\n",
       " <div class=\"mntl-recipe-details__value\">20 mins</div>,\n",
       " <div class=\"mntl-recipe-details__value\">30 mins</div>,\n",
       " <div class=\"mntl-recipe-details__value\">4 </div>]"
      ]
     },
     "execution_count": 13,
     "metadata": {},
     "output_type": "execute_result"
    }
   ],
   "source": [
    "cooktime_Numberof_people_numerical"
   ]
  },
  {
   "cell_type": "code",
   "execution_count": 14,
   "id": "37cc4959",
   "metadata": {},
   "outputs": [],
   "source": [
    "cooktime_Numberof_people_catagory=soup.find_all('div',class_=\"mntl-recipe-details__label\")"
   ]
  },
  {
   "cell_type": "code",
   "execution_count": 15,
   "id": "667cf6a5",
   "metadata": {},
   "outputs": [
    {
     "data": {
      "text/plain": [
       "[<div class=\"mntl-recipe-details__label\">Prep Time:</div>,\n",
       " <div class=\"mntl-recipe-details__label\">Cook Time:</div>,\n",
       " <div class=\"mntl-recipe-details__label\">Total Time:</div>,\n",
       " <div class=\"mntl-recipe-details__label\">Servings:</div>]"
      ]
     },
     "execution_count": 15,
     "metadata": {},
     "output_type": "execute_result"
    }
   ],
   "source": [
    "cooktime_Numberof_people_catagory"
   ]
  },
  {
   "cell_type": "code",
   "execution_count": 16,
   "id": "4581c281",
   "metadata": {},
   "outputs": [
    {
     "name": "stdout",
     "output_type": "stream",
     "text": [
      "Details for this recipe:\n",
      " \n",
      "Prep Time: : 10 mins\n",
      "Cook Time: : 20 mins\n",
      "Total Time: : 30 mins\n",
      "Servings: : 4 \n"
     ]
    }
   ],
   "source": [
    "print(\"Details for this recipe:\") \n",
    "print(\" \")\n",
    "for i in range(len(cooktime_Numberof_people_catagory)):\n",
    "    print(f\"{cooktime_Numberof_people_catagory[i].text} : {cooktime_Numberof_people_numerical[i].text}\")"
   ]
  },
  {
   "cell_type": "code",
   "execution_count": 17,
   "id": "1c24903b",
   "metadata": {},
   "outputs": [],
   "source": [
    "import urllib.request"
   ]
  },
  {
   "cell_type": "code",
   "execution_count": 18,
   "id": "341a987f",
   "metadata": {},
   "outputs": [
    {
     "name": "stdout",
     "output_type": "stream",
     "text": [
      "Defaulting to user installation because normal site-packages is not writeable\n",
      "Requirement already satisfied: google in c:\\users\\ronak\\appdata\\roaming\\python\\python39\\site-packages (3.0.0)\n",
      "Requirement already satisfied: beautifulsoup4 in c:\\programdata\\anaconda3\\lib\\site-packages (from google) (4.11.1)\n",
      "Requirement already satisfied: soupsieve>1.2 in c:\\programdata\\anaconda3\\lib\\site-packages (from beautifulsoup4->google) (2.3.1)\n",
      "Note: you may need to restart the kernel to use updated packages.\n"
     ]
    }
   ],
   "source": [
    "pip install google"
   ]
  },
  {
   "cell_type": "markdown",
   "id": "514d1ecc",
   "metadata": {},
   "source": [
    "### Everything at Once!!"
   ]
  },
  {
   "cell_type": "code",
   "execution_count": 19,
   "id": "9ca0a8ba",
   "metadata": {},
   "outputs": [],
   "source": [
    "def recipe(recipename):\n",
    "    allwebsites=[]\n",
    "    try:\n",
    "        from googlesearch import search\n",
    "    except ImportError:\n",
    "        print(\"No module named 'google' found\")\n",
    "\n",
    "    # to search\n",
    "    query = \"allrecipes\"+\" \"+ recipename\n",
    "\n",
    "    for j in search(query, tld=\"co.in\", num=10, stop=10, pause=2):\n",
    "        allwebsites.append(j)\n",
    "    #-----------------------------------------------------------------------------------------------------------------\n",
    "    neededweb=[]\n",
    "    for web in allwebsites:\n",
    "        if 'www.allrecipes.com/recipe' in str(web):\n",
    "            neededweb.append(web)\n",
    "    print(\"Hello! Happy cooking!\")\n",
    "    print(\"link for this receip is \",neededweb[0])\n",
    "    #-----------------------------------------------------------------------------------------------------------------\n",
    "    neededwebsite=neededweb[0]\n",
    "    \n",
    "    try:# because if url is invalid then it supposed to give error which will be return from Exception\n",
    "          source = requests.get(neededwebsite)\n",
    "          #print(type(source))\n",
    "          source.raise_for_status()\n",
    "          soup = BeautifulSoup(source.text,'html.parser') # Type of variable soup is BeautifulSoup # It's text of html text of given website.\n",
    "\n",
    "          required=soup.find('ul',class_=\"mntl-structured-ingredients__list\") # We wrote it beause of \"table class=\"wikitable\" style=\"width=100%\"\n",
    "          # find will find perticular x ....... /x that x from whole html text\n",
    "          #print(table) # table is for this table in \n",
    "          #print(type(source))\n",
    "    except Exception as e:\n",
    "          print(e)\n",
    "    htmlofitems = required.find_all('p')     \n",
    "        \n",
    "    spanhtml=[]\n",
    "    for i in range(0,len(htmlofitems)):\n",
    "        spanhtml1=htmlofitems[i].find_all('span')\n",
    "        spanhtml.append(spanhtml1)\n",
    "    listofallitem=[]\n",
    "    for i in range(len(spanhtml)):\n",
    "        singleitem=[]\n",
    "\n",
    "        for j in range(0,len(spanhtml[i])):\n",
    "            if spanhtml[i][j].text:\n",
    "                singleitem.append(spanhtml[i][j].text)\n",
    "        listofallitem.append(singleitem)\n",
    "    cooktime_Numberof_people_numerical=soup.find_all('div',class_=\"mntl-recipe-details__value\")\n",
    "    cooktime_Numberof_people_catagory=soup.find_all('div',class_=\"mntl-recipe-details__label\")\n",
    "    print(\" \")\n",
    "    print(\"Details for this recipe:\") \n",
    "    print(\" \")\n",
    "    for i in range(len(cooktime_Numberof_people_catagory)):\n",
    "        print(f\"{cooktime_Numberof_people_catagory[i].text} : {cooktime_Numberof_people_numerical[i].text}\")\n",
    "    print(\" \")\n",
    "    print(\"Here is list of all ingredients needed with it's quantity:\")\n",
    "    print(\" \")\n",
    "    id=1\n",
    "    for i in listofallitem:\n",
    "        print(id,\":\",i)\n",
    "        id=id+1\n",
    "    print(\" \")\n",
    "    print(\"Let's look at steps for recipe:\")\n",
    "    print(\" \")\n",
    "    requiredforstep=soup.find('ol',class_=\"comp mntl-sc-block-group--OL mntl-sc-block mntl-sc-block-startgroup\")\n",
    "    stephtml=requiredforstep.find_all('li')\n",
    "    steps=[]\n",
    "    for i in range(len(stephtml)):\n",
    "        steps.append([f\"Step Number {i+1}: {stephtml[i].text.strip()}\"])\n",
    "    for i in steps:\n",
    "        for j in i:\n",
    "            print(j)\n",
    "            print(\" \")\n",
    "    print(\"You can refer same recipe via youtube based on video link below,which is best recommendation of YouTube:\")\n",
    "    \n",
    "    queryforyoutube = \"youtube\"+\"Paneer Tikka\"\n",
    "    youtubesites=[]\n",
    "    for j in search(queryforyoutube, tld=\"co.in\", num=10, stop=10, pause=2):\n",
    "        youtubesites.append(j)\n",
    "    topyoutubesite=[]\n",
    "    for web in youtubesites:\n",
    "        if 'youtube' in str(web):\n",
    "            topyoutubesite.append(web)\n",
    "    print(topyoutubesite[0])\n"
   ]
  },
  {
   "cell_type": "code",
   "execution_count": 20,
   "id": "46caa0c2",
   "metadata": {},
   "outputs": [
    {
     "name": "stdout",
     "output_type": "stream",
     "text": [
      "Hello! Happy cooking!\n",
      "link for this receip is  https://www.allrecipes.com/recipe/240652/paneer-tikka-masala/\n",
      " \n",
      "Details for this recipe:\n",
      " \n",
      "Prep Time: : 15 mins\n",
      "Cook Time: : 40 mins\n",
      "Total Time: : 55 mins\n",
      "Servings: : 6 \n",
      "Yield: : 6 servings\n",
      " \n",
      "Here is list of all ingredients needed with it's quantity:\n",
      " \n",
      "1 : ['¼', 'cup', 'butter']\n",
      "2 : ['1', 'pound', 'paneer, cut into 1/2-inch cubes']\n",
      "3 : ['2', 'onions, finely chopped']\n",
      "4 : ['1', 'green bell pepper, chopped']\n",
      "5 : ['2', 'jalapeno peppers, chopped']\n",
      "6 : ['1', 'tablespoon', 'ground cashews']\n",
      "7 : ['1', 'teaspoon', 'garlic paste']\n",
      "8 : ['1', 'teaspoon', 'ginger paste']\n",
      "9 : ['1', 'teaspoon', 'cayenne pepper']\n",
      "10 : ['1', 'teaspoon', 'ground cumin']\n",
      "11 : ['1', 'teaspoon', 'ground coriander']\n",
      "12 : ['1', 'teaspoon', 'garam masala']\n",
      "13 : ['1', '(16 ounce) can', 'tomato sauce']\n",
      "14 : ['1', 'pint', 'half-and-half']\n",
      "15 : ['1', 'teaspoon', 'salt, or to taste']\n",
      " \n",
      "Let's look at steps for recipe:\n",
      " \n",
      "Step Number 1: Melt butter in a skillet over medium heat; cook and stir paneer until golden, about 5 minutes. Add onions, green bell pepper, jalapeno peppers, cashews, garlic paste, ginger paste, cayenne pepper, cumin, coriander, and garam masala to paneer; cook and stir until fragrant and evenly coated, about 1 minute.\n",
      " \n",
      "Step Number 2: Mix tomato sauce, half-and-half, and salt into paneer mixture; simmer until thickened, about 30 minutes.\n",
      " \n",
      "You can refer same recipe via youtube based on video link below,which is best recommendation of YouTube:\n",
      "https://www.youtube.com/watch?v=hsR0JaD1TyA\n"
     ]
    }
   ],
   "source": [
    "recipe(\"Paneer Tikka Masala\")"
   ]
  },
  {
   "cell_type": "code",
   "execution_count": 21,
   "id": "f534a730",
   "metadata": {},
   "outputs": [
    {
     "name": "stdout",
     "output_type": "stream",
     "text": [
      "Hello! Happy cooking!\n",
      "link for this receip is  https://www.allrecipes.com/recipe/141169/easy-indian-butter-chicken/\n",
      " \n",
      "Details for this recipe:\n",
      " \n",
      "Prep Time: : 15 mins\n",
      "Cook Time: : 45 mins\n",
      "Total Time: :  1 hrs\n",
      "Servings: : 6 \n",
      " \n",
      "Here is list of all ingredients needed with it's quantity:\n",
      " \n",
      "1 : ['1', 'cup', 'butter, divided']\n",
      "2 : ['1', 'onion, minced']\n",
      "3 : ['1', 'tablespoon', 'minced garlic']\n",
      "4 : ['1', '(15 ounce) can', 'tomato sauce']\n",
      "5 : ['3', 'cups', 'heavy cream']\n",
      "6 : ['2', 'teaspoons', 'salt']\n",
      "7 : ['1', 'teaspoon', 'cayenne pepper']\n",
      "8 : ['1', 'teaspoon', 'garam masala']\n",
      "9 : ['1 ½', 'pounds', 'skinless, boneless chicken breast, cut into bite-sized chunks']\n",
      "10 : ['2', 'tablespoons', 'vegetable oil']\n",
      "11 : ['2', 'tablespoons', 'tandoori masala']\n",
      " \n",
      "Let's look at steps for recipe:\n",
      " \n",
      "Step Number 1: Preheat the oven to 375 degrees F (190 degrees C).\n",
      " \n",
      "Step Number 2: Melt 2 tablespoons butter in a skillet over medium heat. Stir in onion and garlic, and cook slowly until the onion caramelizes to a dark brown, about 15 minutes.\n",
      " \n",
      "Step Number 3: Meanwhile, combine cream, tomato sauce, remaining butter, salt, cayenne pepper, and garam masala in a saucepan over medium-high heat; bring to a simmer. Reduce heat to medium-low, cover, and simmer, stirring occasionally, for 30 minutes. Stir in caramelized onions.\n",
      " \n",
      "Step Number 4: While the sauce is simmering, toss chicken with vegetable oil until coated. Season with tandoori masala and spread out onto a baking sheet.\n",
      " \n",
      "Step Number 5: Bake chicken in the preheated oven until no longer pink in the center, about 12 minutes.\n",
      " \n",
      "Step Number 6: Add cooked chicken to the sauce and simmer for 5 minutes before serving.\n",
      " \n",
      "You can refer same recipe via youtube based on video link below,which is best recommendation of YouTube:\n",
      "https://www.youtube.com/watch?v=hsR0JaD1TyA\n"
     ]
    }
   ],
   "source": [
    "recipe(\"Chicken Butter Masala\")"
   ]
  },
  {
   "cell_type": "code",
   "execution_count": 22,
   "id": "a979c59f",
   "metadata": {},
   "outputs": [
    {
     "name": "stdout",
     "output_type": "stream",
     "text": [
      "Hello! Happy cooking!\n",
      "link for this receip is  https://www.allrecipes.com/recipe/273325/homemade-garlic-bread/\n",
      " \n",
      "Details for this recipe:\n",
      " \n",
      "Prep Time: : 10 mins\n",
      "Cook Time: : 25 mins\n",
      "Total Time: : 35 mins\n",
      "Servings: : 8 \n",
      "Yield: : 1 loaf\n",
      " \n",
      "Here is list of all ingredients needed with it's quantity:\n",
      " \n",
      "1 : ['½', 'cup', 'butter, softened']\n",
      "2 : ['3', 'tablespoons', 'olive oil']\n",
      "3 : ['4', 'cloves', 'garlic, minced']\n",
      "4 : ['1', 'tablespoon', 'garlic powder']\n",
      "5 : ['1', 'tablespoon', 'chopped fresh parsley']\n",
      "6 : ['½', 'teaspoon', 'salt']\n",
      "7 : ['1', 'loaf', 'French bread']\n",
      " \n",
      "Let's look at steps for recipe:\n",
      " \n",
      "Step Number 1: Preheat the oven to 400 degrees F (200 degrees C). Line a baking sheet with aluminum foil.\n",
      " \n",
      "Step Number 2: Mix butter, olive oil, minced garlic, garlic powder, parsley, and salt in a bowl until well combined.\n",
      " \n",
      "Step Number 3: Cut bread loaf into 1-inch slices and spread garlic mixture over each slice. Place each on a baking sheet. Wrap with additional aluminum foil.\n",
      " \n",
      "Step Number 4: Bake in the preheated oven until bread is crispy and heated through, 25 to 30 minutes.\n",
      " \n",
      "You can refer same recipe via youtube based on video link below,which is best recommendation of YouTube:\n",
      "https://www.youtube.com/watch?v=hsR0JaD1TyA\n"
     ]
    }
   ],
   "source": [
    "recipe(\"Garlic Bread\")"
   ]
  },
  {
   "cell_type": "markdown",
   "id": "4460327c",
   "metadata": {},
   "source": [
    "### Enjoy Your Food!!!\n",
    "### Bye"
   ]
  }
 ],
 "metadata": {
  "kernelspec": {
   "display_name": "Python 3 (ipykernel)",
   "language": "python",
   "name": "python3"
  },
  "language_info": {
   "codemirror_mode": {
    "name": "ipython",
    "version": 3
   },
   "file_extension": ".py",
   "mimetype": "text/x-python",
   "name": "python",
   "nbconvert_exporter": "python",
   "pygments_lexer": "ipython3",
   "version": "3.9.12"
  }
 },
 "nbformat": 4,
 "nbformat_minor": 5
}
